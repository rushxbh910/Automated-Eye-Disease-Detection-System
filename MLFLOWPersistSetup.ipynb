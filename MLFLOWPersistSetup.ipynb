{
 "cells": [
  {
   "cell_type": "code",
   "execution_count": 1,
   "id": "db42aaca-18cf-4780-a9bc-dab6c9a27a7b",
   "metadata": {
    "tags": []
   },
   "outputs": [
    {
     "data": {
      "application/vnd.jupyter.widget-view+json": {
       "model_id": "e3b6fb18a1e748c2a47c35a2269ee3ee",
       "version_major": 2,
       "version_minor": 0
      },
      "text/plain": [
       "VBox(children=(Dropdown(description='Select Project', options=('CHI-251409',), value='CHI-251409'), Output()))"
      ]
     },
     "metadata": {},
     "output_type": "display_data"
    },
    {
     "data": {
      "application/vnd.jupyter.widget-view+json": {
       "model_id": "8918855cb9cd47caaf15c93061dfd269",
       "version_major": 2,
       "version_minor": 0
      },
      "text/plain": [
       "VBox(children=(Dropdown(description='Select Site', options=('CHI@TACC', 'CHI@UC', 'CHI@EVL', 'CHI@NCAR', 'CHI@…"
      ]
     },
     "metadata": {},
     "output_type": "display_data"
    }
   ],
   "source": [
    "from chi import server, context, lease\n",
    "import chi, os, time, datetime\n",
    "\n",
    "context.version = \"1.0\" \n",
    "context.choose_project()\n",
    "context.choose_site(default=\"CHI@TACC\")"
   ]
  },
  {
   "cell_type": "code",
   "execution_count": 2,
   "id": "dc553225-38ca-40ae-a9da-d5f064017da1",
   "metadata": {
    "tags": []
   },
   "outputs": [
    {
     "data": {
      "application/vnd.jupyter.widget-view+json": {
       "model_id": "52c889e298294b60a58d169a5c138da6",
       "version_major": 2,
       "version_minor": 0
      },
      "text/plain": [
       "HTML(value='\\n        <h2>Lease Details</h2>\\n        <table>\\n            <tr><th>Name</th><td>Project24001</…"
      ]
     },
     "metadata": {},
     "output_type": "display_data"
    },
    {
     "name": "stdout",
     "output_type": "stream",
     "text": [
      "Lease Details:\n",
      "Name: Project24001\n",
      "ID: 1f85ceb3-0227-4f6d-af26-667358395a1c\n",
      "Status: ACTIVE\n",
      "Start Date: 2025-05-10 01:17:00\n",
      "End Date: 2025-05-10 02:20:00\n",
      "User ID: e2577330508e3973cfe043571304aac84303c56c5f6e3388146f5a29a70065c7\n",
      "Project ID: d3c6e101843a4ba79e665ebf59b521a2\n",
      "\n",
      "Node Reservations:\n",
      "ID: 68fe0fa6-e070-4ea9-a51a-d07b47ff5c6c, Status: active, Min: 1, Max: 1\n",
      "\n",
      "Floating IP Reservations:\n",
      "\n",
      "Network Reservations:\n",
      "\n",
      "Events:\n"
     ]
    }
   ],
   "source": [
    "l = lease.get_lease(f\"Project24001\") \n",
    "l.show()"
   ]
  },
  {
   "cell_type": "code",
   "execution_count": null,
   "id": "ef635cfe-4bf2-4bf8-b02e-d612e3070336",
   "metadata": {
    "tags": []
   },
   "outputs": [
    {
     "name": "stdout",
     "output_type": "stream",
     "text": [
      "Waiting for server node-sb9880-01's status to become ACTIVE. This typically takes 10 minutes, but can take up to 20 minutes.\n"
     ]
    },
    {
     "data": {
      "application/vnd.jupyter.widget-view+json": {
       "model_id": "64d555c37abc4508980734e1dee65a1d",
       "version_major": 2,
       "version_minor": 0
      },
      "text/plain": [
       "HBox(children=(Label(value=''), IntProgress(value=0, bar_style='success')))"
      ]
     },
     "metadata": {},
     "output_type": "display_data"
    }
   ],
   "source": [
    "username = os.getenv('USER') # all exp resources will have this prefix\n",
    "s = server.Server(\n",
    "    f\"node-sb9880-01\", \n",
    "    reservation_id=l.node_reservations[0][\"id\"],\n",
    "    image_name=\"CC-Ubuntu24.04-CUDA\"\n",
    ")\n",
    "s.submit(idempotent=True)"
   ]
  },
  {
   "cell_type": "code",
   "execution_count": null,
   "id": "bf0bb5bf-c125-4ec8-a2c8-aa298419c95f",
   "metadata": {
    "tags": []
   },
   "outputs": [],
   "source": [
    "s.associate_floating_ip()"
   ]
  },
  {
   "cell_type": "code",
   "execution_count": null,
   "id": "88fa6301-5854-47df-8ddf-496a100775c9",
   "metadata": {
    "tags": []
   },
   "outputs": [],
   "source": [
    "s.refresh()\n",
    "s.check_connectivity()"
   ]
  },
  {
   "cell_type": "markdown",
   "id": "ab1ea120-a143-4cf6-9dd2-5f0e8bb3fb7d",
   "metadata": {
    "tags": []
   },
   "source": [
    "s.refresh()\n",
    "s.show(type=\"widget\")"
   ]
  },
  {
   "cell_type": "markdown",
   "id": "d0c9fd41-795c-47d3-af39-21ee60f30ab8",
   "metadata": {
    "tags": []
   },
   "source": [
    "By default, all connections to VM resources are blocked, as a security measure. We need to attach one or more “security groups” to our VM resource, to permit access over the Internet to specified ports.\n",
    "\n",
    "The following security groups will be created (if they do not already exist in our project) and then added to our server:\n"
   ]
  },
  {
   "cell_type": "code",
   "execution_count": null,
   "id": "b60c2f99-1916-426b-873d-38f662c91b01",
   "metadata": {
    "tags": []
   },
   "outputs": [],
   "source": [
    "security_groups = [\n",
    "  {'name': \"allow-ssh\", 'port': 22, 'description': \"Enable SSH traffic on TCP port 22\"},\n",
    "  {'name': \"allow-8888\", 'port': 8888, 'description': \"Enable TCP port 8888 (used by Jupyter)\"},\n",
    "  {'name': \"allow-8000\", 'port': 8000, 'description': \"Enable TCP port 8000 (used by MLFlow)\"},\n",
    "  {'name': \"allow-9000\", 'port': 9000, 'description': \"Enable TCP port 9000 (used by MinIO API)\"},\n",
    "  {'name': \"allow-9001\", 'port': 9001, 'description': \"Enable TCP port 9001 (used by MinIO Web UI)\"}\n",
    "]"
   ]
  },
  {
   "cell_type": "code",
   "execution_count": null,
   "id": "12ea0a09-b43e-4073-98b9-cd06f26a6191",
   "metadata": {
    "tags": []
   },
   "outputs": [],
   "source": [
    "# configure openstacksdk for actions unsupported by python-chi\n",
    "os_conn = chi.clients.connection()\n",
    "nova_server = chi.nova().servers.get(s.id)\n",
    "\n",
    "for sg in security_groups:\n",
    "\n",
    "  if not os_conn.get_security_group(sg['name']):\n",
    "      os_conn.create_security_group(sg['name'], sg['description'])\n",
    "      os_conn.create_security_group_rule(sg['name'], port_range_min=sg['port'], port_range_max=sg['port'], protocol='tcp', remote_ip_prefix='0.0.0.0/0')\n",
    "\n",
    "  nova_server.add_security_group(sg['name'])\n",
    "\n",
    "print(f\"updated security groups: {[group.name for group in nova_server.list_security_group()]}\")"
   ]
  },
  {
   "cell_type": "code",
   "execution_count": null,
   "id": "a80ff65b-dc1d-471e-a88c-226f2c0ca390",
   "metadata": {
    "tags": []
   },
   "outputs": [],
   "source": [
    "# load git repo\n",
    "#s.execute(\"git clone --recurse-submodules https://github.com/AryanAjmera18/EYE\")\n"
   ]
  },
  {
   "cell_type": "markdown",
   "id": "bbf59a5c-4857-4e68-9b06-0989464ecaf0",
   "metadata": {},
   "source": [
    "Set up Docker"
   ]
  },
  {
   "cell_type": "code",
   "execution_count": null,
   "id": "fa73c59c-2e4a-42b9-8729-81c73ad3938c",
   "metadata": {
    "tags": []
   },
   "outputs": [],
   "source": [
    "s.execute(\"curl -sSL https://get.docker.com/ | sudo sh\")\n",
    "s.execute(\"sudo groupadd -f docker; sudo usermod -aG docker $USER\")"
   ]
  },
  {
   "cell_type": "markdown",
   "id": "61439ba7-7c44-498b-a211-b88e96261bbc",
   "metadata": {},
   "source": [
    "## For nvidia GPU"
   ]
  },
  {
   "cell_type": "code",
   "execution_count": null,
   "id": "205f7bfa-4c48-4a99-88fe-cbba30c33b8f",
   "metadata": {
    "tags": []
   },
   "outputs": [],
   "source": [
    "s.execute(\"curl -fsSL https://nvidia.github.io/libnvidia-container/gpgkey | sudo gpg --dearmor -o /usr/share/keyrings/nvidia-container-toolkit-keyring.gpg \\\n",
    "  && curl -s -L https://nvidia.github.io/libnvidia-container/stable/deb/nvidia-container-toolkit.list | \\\n",
    "    sed 's#deb https://#deb [signed-by=/usr/share/keyrings/nvidia-container-toolkit-keyring.gpg] https://#g' | \\\n",
    "    sudo tee /etc/apt/sources.list.d/nvidia-container-toolkit.list\")\n",
    "s.execute(\"sudo apt update\")\n",
    "s.execute(\"sudo apt-get install -y nvidia-container-toolkit\")\n",
    "s.execute(\"sudo nvidia-ctk runtime configure --runtime=docker\")\n",
    "# for https://github.com/NVIDIA/nvidia-container-toolkit/issues/48\n",
    "s.execute(\"sudo jq 'if has(\\\"exec-opts\\\") then . else . + {\\\"exec-opts\\\": [\\\"native.cgroupdriver=cgroupfs\\\"]} end' /etc/docker/daemon.json | sudo tee /etc/docker/daemon.json.tmp > /dev/null && sudo mv /etc/docker/daemon.json.tmp /etc/docker/daemon.json\")\n",
    "s.execute(\"sudo systemctl restart docker\")"
   ]
  },
  {
   "cell_type": "code",
   "execution_count": null,
   "id": "ef2d1c9a-9e3b-442f-84df-05d995682cb6",
   "metadata": {
    "tags": []
   },
   "outputs": [],
   "source": [
    "s.execute(\"sudo apt update\")\n",
    "s.execute(\"sudo apt -y install nvtop\")"
   ]
  },
  {
   "cell_type": "markdown",
   "id": "898fe527-e95d-45bc-b70b-8c078712d781",
   "metadata": {},
   "source": [
    "## For AMD GPU\n",
    "Before we can use the AMD GPUs, we need to set up the driver using the `amdgpu-install` utility.\n",
    "\n",
    "Let’s follow [AMD’s instructions for setting up `amdgpu-install`](https://rocm.docs.amd.com/projects/install-on-linux/en/latest/install/install-methods/amdgpu-installer/amdgpu-installer-ubuntu.html#installation):"
   ]
  },
  {
   "cell_type": "code",
   "execution_count": null,
   "id": "cffbe2fc-3101-45b6-92c2-4cd28554d3e0",
   "metadata": {
    "tags": []
   },
   "outputs": [],
   "source": [
    "s.execute(\"sudo apt update; wget https://repo.radeon.com/amdgpu-install/6.3.3/ubuntu/noble/amdgpu-install_6.3.60303-1_all.deb\")\n",
    "s.execute(\"sudo apt -y install ./amdgpu-install_6.3.60303-1_all.deb; sudo apt update\")"
   ]
  },
  {
   "cell_type": "code",
   "execution_count": null,
   "id": "c8106dc9-5db4-4af5-a029-b2d8dec638af",
   "metadata": {
    "tags": []
   },
   "outputs": [],
   "source": [
    "s.execute(\"amdgpu-install -y --usecase=dkms\")"
   ]
  },
  {
   "cell_type": "code",
   "execution_count": null,
   "id": "ce61f8b5-2e35-4c80-9aec-a252fab6bea7",
   "metadata": {
    "tags": []
   },
   "outputs": [],
   "source": [
    "s.execute(\"sudo apt -y install rocm-smi\")"
   ]
  },
  {
   "cell_type": "code",
   "execution_count": null,
   "id": "046ef29a-ab18-41fd-8434-b73d0b801e23",
   "metadata": {},
   "outputs": [],
   "source": [
    "s.execute(\"sudo usermod -aG video,render $USER\")"
   ]
  },
  {
   "cell_type": "code",
   "execution_count": null,
   "id": "93d8be48-d4b4-45e4-8e8b-03f0f09f9088",
   "metadata": {},
   "outputs": [],
   "source": [
    "s.execute(\"sudo reboot\")\n",
    "time.sleep(30)"
   ]
  },
  {
   "cell_type": "code",
   "execution_count": null,
   "id": "0f3e83b6-2ae4-4033-beac-9791c000aba4",
   "metadata": {},
   "outputs": [],
   "source": [
    "s.refresh()\n",
    "s.check_connectivity()"
   ]
  },
  {
   "cell_type": "code",
   "execution_count": null,
   "id": "128ef7aa-6b77-45f4-8c96-f8d42bbe4267",
   "metadata": {},
   "outputs": [],
   "source": [
    "s.execute(\"rocm-smi\")"
   ]
  },
  {
   "cell_type": "code",
   "execution_count": null,
   "id": "3f6c1387-1877-4497-9fc0-5a675472c2c1",
   "metadata": {},
   "outputs": [],
   "source": [
    "s.execute(\"sudo apt -y install cmake libncurses-dev libsystemd-dev libudev-dev libdrm-dev libgtest-dev\")\n",
    "s.execute(\"git clone https://github.com/Syllo/nvtop\")\n",
    "s.execute(\"mkdir -p nvtop/build && cd nvtop/build && cmake .. -DAMDGPU_SUPPORT=ON && sudo make install\")"
   ]
  },
  {
   "cell_type": "markdown",
   "id": "1b5ee05c-435f-4bf4-ad60-389284268957",
   "metadata": {},
   "source": [
    "## build container image for mlflow section"
   ]
  },
  {
   "cell_type": "code",
   "execution_count": null,
   "id": "28e98e4e-771f-438e-b6ed-eae8034e1e21",
   "metadata": {
    "tags": []
   },
   "outputs": [],
   "source": [
    "s.execute(\"git clone --recurse-submodules https://github.com/sb9880/Data_eye\")\n",
    "s.execute(\"docker build -t jupyter-mlflow -f Data_eye/Dockerfile.jupyter-torch-mlflow-cuda .\")"
   ]
  },
  {
   "cell_type": "markdown",
   "id": "ce9615b8-7394-4510-a729-cd0a364c558d",
   "metadata": {},
   "source": [
    "1st lab mlflow done - \n",
    "## Now we can SSH\n",
    "ssh -i ~/.ssh/id_rsa_chameleon cc@129.114.108.94\n",
    "\n",
    "\n"
   ]
  },
  {
   "cell_type": "markdown",
   "id": "1beed74c-9d59-413e-8d6a-c181fc158a87",
   "metadata": {
    "tags": []
   },
   "source": [
    "1. Get container-Object id \n",
    "2. Install rclone\n",
    "##### run on node-persist\n",
    "curl https://rclone.org/install.sh | sudo bash\n",
    "    \n",
    "    # run on node-persist\n",
    "##### this line makes sure user_allow_other is un-commented in /etc/fuse.conf\n",
    "sudo sed -i '/^#user_allow_other/s/^#//' /etc/fuse.conf\n",
    "\n",
    "Next, create a configuration file for rclone with the ID and secret from the application credential you just generated:\n",
    "\n",
    "# run on node-persist\n",
    "mkdir -p ~/.config/rclone\n",
    "nano  ~/.config/rclone/rclone.conf\n",
    "Paste the following into the config file, but substitute your own application credential ID and secret.\n",
    "\n",
    "You will also need to substitute your own user ID. You can find it using “Identity” > “Users” in the Horizon GUI; it is an alphanumeric string (not the human-readable user name).\n",
    "\n",
    "[chi_tacc]\n",
    "type = swift\n",
    "user_id = YOUR_USER_ID\n",
    "application_credential_id = APP_CRED_ID\n",
    "application_credential_secret = APP_CRED_SECRET\n",
    "auth = https://chi.tacc.chameleoncloud.org:5000/v3\n",
    "region = CHI@TACC\n",
    "Use Ctrl+O and Enter to save the file, and Ctrl+X to exit nano.\n",
    "\n",
    "To test it, run\n",
    "\n",
    "# run on node-persist\n",
    "rclone lsd chi_tacc:\n",
    "and verify that you see your container listed. This confirms that rclone can authenticate to the object store.\n",
    "\n",
    "---------> object-persist-project24\n",
    "### ETL loads data to object\n",
    "#### Mount\n",
    "The next step is to create a mount point for the data in the local filesystem:\n",
    "\n",
    "``` bash\n",
    "# run on node-persist\n",
    "sudo mkdir -p /mnt/object\n",
    "sudo chown -R cc /mnt/object\n",
    "sudo chgrp -R cc /mnt/object\n",
    "```\n",
    "\n",
    "Now finally, we can use `rclone mount` to mount the object store at the mount point (substituting your own **netID** in the command below).\n",
    "\n",
    "``` bash\n",
    "### run on node-persist\n",
    "rclone mount chi_tacc:object-persist-project24 /mnt/object --read-only --allow-other --daemon\n",
    "```\n",
    "\n",
    "Here,\n",
    "\n",
    "-   `chi_tacc` tells `rclone` which section of its configuration file to use for authentication information\n",
    "-   `object-persist-netID` tells it what object store container to mount\n",
    "-   `/mnt/object` says where to mount it\n",
    "\n",
    "Since we only intend to read the data, we can mount it in read-only mode and it will be slightly faster; and we are also protected from accidental writes. We also specified `--allow-other` so that we can use the mount from Docker, and `--daemon` means the `rclone` process will be started in the background.\n",
    "\n",
    "Run\n",
    "\n",
    "``` bash\n",
    "# run on node-persist\n",
    "ls /mnt/object\n",
    "```\n",
    "\n",
    "and confirm that we can now see the Food11 data directories (`evaluation`, `training`, `validation`) there.\n",
    "-------------------------\n",
    "## Mount to Docker\n",
    "Now, we can start a Docker container with access to that virtual “filesystem”, by passing that directory as a bind mount. \n",
    "\n",
    "Note that to mount a directory that is actually a FUSE filesystem inside a Docker container, we have to pass it using a slightly different `--mount` syntax, instead of the `-v` that we had used in previous examples.\n",
    "\n"
   ]
  },
  {
   "cell_type": "code",
   "execution_count": null,
   "id": "7141cc56-123e-4e8b-a2fd-8fabb41c1743",
   "metadata": {},
   "outputs": [],
   "source": [
    "First, create the volume:\n",
    "\n",
    "``` bash\n",
    "# runs on node-mltrain\n",
    "docker volume create EYE\n",
    "```\n",
    "\n",
    "Then, to populate it with data, run\n",
    "\n",
    "\n",
    "# runs on node-mltrain\n",
    "docker compose -f /Data_eye/Docker/docker-compose-data.yaml up -d\n",
    "\n",
    "This will run a temporary container that downloads the Food-11 dataset, organizes it in the volume, and then stops. It may take a minute or two. You can verify with\n",
    "\n",
    "``` bash\n",
    "# runs on node-mltrain\n",
    "docker ps\n",
    "```\n",
    "\n",
    "that it is done - when there are no running containers.\n",
    "\n",
    "Finally, verify that the data looks as it should. Start a shell in a temporary container with this volume attached, and `ls` the contents of the volume:\n",
    "\n",
    "``` bash\n",
    "# runs on node-mltrain\n",
    "docker run --rm -it -v EYE:/mnt alpine ls -l /mnt/eye_dataset/\n",
    "\n",
    "\n",
    "\n",
    "```\n",
    "\n",
    "it should show “evaluation”, “validation”, and “training” subfolders."
   ]
  },
  {
   "cell_type": "markdown",
   "id": "503e6e53-5f1a-4690-9e47-52c96a8f64f3",
   "metadata": {},
   "source": [
    "### Un-mount an object store\n",
    "\n",
    "We’ll keep working with this object store in the next part, so you do not have to un-mount it now. But generally speaking to stop `rclone` running and un-mount the object store, you would run\n",
    "\n",
    "    fusermount -u /mnt/object\n",
    "\n",
    "where you specify the path of the mount point."
   ]
  },
  {
   "cell_type": "markdown",
   "id": "03cde769-1df3-4e73-920e-d4b7e70b252d",
   "metadata": {
    "jupyter": {
     "outputs_hidden": true
    }
   },
   "source": []
  },
  {
   "cell_type": "code",
   "execution_count": null,
   "id": "c3946370-fd0f-4cd4-a989-743ffb25f389",
   "metadata": {},
   "outputs": [],
   "source": []
  },
  {
   "cell_type": "code",
   "execution_count": null,
   "id": "5511d557-429d-4fec-af37-3f1f388b02f1",
   "metadata": {},
   "outputs": [],
   "source": []
  }
 ],
 "metadata": {
  "kernelspec": {
   "display_name": "Python 3 (ipykernel)",
   "language": "python",
   "name": "python3"
  },
  "language_info": {
   "codemirror_mode": {
    "name": "ipython",
    "version": 3
   },
   "file_extension": ".py",
   "mimetype": "text/x-python",
   "name": "python",
   "nbconvert_exporter": "python",
   "pygments_lexer": "ipython3",
   "version": "3.10.9"
  }
 },
 "nbformat": 4,
 "nbformat_minor": 5
}
